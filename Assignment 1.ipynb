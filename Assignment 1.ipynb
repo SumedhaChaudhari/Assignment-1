{
 "cells": [
  {
   "cell_type": "code",
   "execution_count": null,
   "metadata": {},
   "outputs": [],
   "source": [
    "Questions 1:\n",
    "Ans : RAINBOW"
   ]
  },
  {
   "cell_type": "code",
   "execution_count": null,
   "metadata": {},
   "outputs": [],
   "source": [
    "Question 2 :"
   ]
  },
  {
   "cell_type": "code",
   "execution_count": 1,
   "metadata": {},
   "outputs": [
    {
     "name": "stdout",
     "output_type": "stream",
     "text": [
      "LETS UPGRADE\n"
     ]
    }
   ],
   "source": [
    "print(\"LETS UPGRADE\")"
   ]
  },
  {
   "cell_type": "code",
   "execution_count": null,
   "metadata": {},
   "outputs": [],
   "source": [
    "Question 3:"
   ]
  },
  {
   "cell_type": "code",
   "execution_count": 4,
   "metadata": {},
   "outputs": [
    {
     "name": "stdout",
     "output_type": "stream",
     "text": [
      "20\n",
      "30\n",
      "\n",
      "\n",
      "\n",
      "\n",
      "\n",
      "INPUT \t\t OUTPUT\n",
      "20.0\n",
      "30.0 \t\t Profit\n"
     ]
    }
   ],
   "source": [
    "cost =float(input())\n",
    "sell_price=float(input())\n",
    "\n",
    "if(cost>sell_price):\n",
    "    OUTPUT = \"Loss\"\n",
    "elif(cost<sell_price):\n",
    "    OUTPUT = \"Profit\"\n",
    "else:\n",
    "    OUTPUT = \"Neither\"\n",
    "    \n",
    "print(\"\\n\\n\\n\\n\")\n",
    "    \n",
    "print(\"INPUT \\t\\t OUTPUT\")\n",
    "print(cost)\n",
    "print(sell_price, \"\\t\\t\",OUTPUT)\n"
   ]
  },
  {
   "cell_type": "code",
   "execution_count": null,
   "metadata": {},
   "outputs": [],
   "source": [
    "Question 4:"
   ]
  },
  {
   "cell_type": "code",
   "execution_count": 7,
   "metadata": {},
   "outputs": [
    {
     "name": "stdout",
     "output_type": "stream",
     "text": [
      "20\n",
      "\n",
      "\n",
      "\n",
      "\n",
      "\n",
      "INPUT \t\t OUTPUT\n",
      "20.0 \t\t 1600.0\n"
     ]
    }
   ],
   "source": [
    "amount_euros =float(input())\n",
    "x=80\n",
    "y=amount_euros*x\n",
    "\n",
    "amount_Rupees=y\n",
    "\n",
    "print(\"\\n\\n\\n\\n\")\n",
    "    \n",
    "print(\"INPUT \\t\\t OUTPUT\")\n",
    "print(amount_euros, \"\\t\\t\",amount_Rupees)\n",
    "\n",
    "\n"
   ]
  },
  {
   "cell_type": "code",
   "execution_count": null,
   "metadata": {},
   "outputs": [],
   "source": []
  }
 ],
 "metadata": {
  "kernelspec": {
   "display_name": "Python 3",
   "language": "python",
   "name": "python3"
  },
  "language_info": {
   "codemirror_mode": {
    "name": "ipython",
    "version": 3
   },
   "file_extension": ".py",
   "mimetype": "text/x-python",
   "name": "python",
   "nbconvert_exporter": "python",
   "pygments_lexer": "ipython3",
   "version": "3.8.3"
  }
 },
 "nbformat": 4,
 "nbformat_minor": 4
}
